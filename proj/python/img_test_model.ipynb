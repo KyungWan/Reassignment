{
 "cells": [
  {
   "cell_type": "code",
   "execution_count": 1,
   "metadata": {},
   "outputs": [],
   "source": [
    "import numpy as np"
   ]
  },
  {
   "cell_type": "code",
   "execution_count": null,
   "metadata": {},
   "outputs": [],
   "source": [
    "# 윈도우 = keras 앞부분에 tensorflow를 붙여줘야한다.\n",
    "# 우분투 = 앞에 붙일 필요 없이 keras만 작성해도 된다.\n",
    "from tensorflow.keras.applications.vgg16 import VGG16\n",
    "from tensorflow.keras.preprocessing import image\n",
    "from tensorflow.keras.applications.vgg16 import preprocess_input"
   ]
  },
  {
   "cell_type": "code",
   "execution_count": null,
   "metadata": {},
   "outputs": [],
   "source": [
    "classifier = VGG16()"
   ]
  },
  {
   "cell_type": "code",
   "execution_count": null,
   "metadata": {},
   "outputs": [],
   "source": [
    "# 마지막 레이어를 제거하여 추가적인 네트워크 구성이 가능하게 만든다.\n",
    "last_layer = str(classifier.layers[-1])"
   ]
  },
  {
   "cell_type": "code",
   "execution_count": null,
   "metadata": {},
   "outputs": [],
   "source": [
    "# 윈도우는 앞에 tensorflow. 붙이기 / 우분투는 tensorflow. 없어도 된다.\n",
    "import tensorflow.keras\n",
    "\n",
    "from tensorflow.keras.layers import Dense"
   ]
  },
  {
   "cell_type": "code",
   "execution_count": null,
   "metadata": {
    "scrolled": true
   },
   "outputs": [],
   "source": [
    "# 추가할 신규 레이어를 작성하는 파트\n",
    "new_layer = tensorflow.keras.Sequential()\n",
    "\n",
    "for layer in classifier.layers:\n",
    "    if str(layer) != last_layer:\n",
    "        new_layer.add(layer)\n",
    "        \n",
    "new_layer.summary()"
   ]
  },
  {
   "cell_type": "code",
   "execution_count": null,
   "metadata": {},
   "outputs": [],
   "source": [
    "# 네트워크를 동결시키도록 한다.\n",
    "for layer in new_layer.layers:\n",
    "    layer.trainable = False"
   ]
  },
  {
   "cell_type": "code",
   "execution_count": null,
   "metadata": {
    "scrolled": true
   },
   "outputs": [],
   "source": [
    "new_layer.add(\n",
    "    Dense(256, activation = 'relu')\n",
    ")\n",
    "new_layer.add(\n",
    "    Dense(256, activation = 'relu')\n",
    ")\n",
    "new_layer.add(\n",
    "    Dense(256, activation = 'relu')\n",
    ")\n",
    "new_layer.add(\n",
    "    Dense(128, activation = 'relu')\n",
    ")\n",
    "new_layer.add(\n",
    "    Dense(128, activation = 'relu')\n",
    ")\n",
    "new_layer.add(\n",
    "    Dense(128, activation = 'sigmoid')\n",
    ")\n",
    "new_layer.add(\n",
    "    Dense(64, activation = 'relu')\n",
    ")\n",
    "new_layer.add(\n",
    "    Dense(32, activation = 'relu')\n",
    ")\n",
    "new_layer.add(\n",
    "    Dense(16, activation = 'relu')\n",
    ")\n",
    "new_layer.add(\n",
    "    Dense(8, activation = 'sigmoid')\n",
    ")\n",
    "new_layer.add(\n",
    "    Dense(1, activation = 'sigmoid')\n",
    ")\n",
    "\n",
    "new_layer.summary()"
   ]
  },
  {
   "cell_type": "code",
   "execution_count": null,
   "metadata": {},
   "outputs": [],
   "source": [
    "new_layer.compile(\n",
    "    optimizer = 'adam',\n",
    "    loss = 'binary_crossentropy',\n",
    "    metrics = ['accuracy']\n",
    ")"
   ]
  },
  {
   "cell_type": "code",
   "execution_count": null,
   "metadata": {},
   "outputs": [],
   "source": [
    "# 윈도우 [tensorflow.] 추가\n",
    "from tensorflow.keras.applications.resnet50 import ResNet50"
   ]
  },
  {
   "cell_type": "code",
   "execution_count": null,
   "metadata": {},
   "outputs": [],
   "source": [
    "resModel = ResNet50()\n",
    "resModel.summary()"
   ]
  },
  {
   "cell_type": "code",
   "execution_count": null,
   "metadata": {},
   "outputs": [],
   "source": [
    "# 라플라스 변환을 하면 s-domain이라는 평면으로 이동을 하게 되고\n",
    "# 라플라스 역변환을 하면 time-domaim(시간축)으로 돌아오게 된다.\n",
    "from tensorflow.keras.applications.vgg16 import decode_predictions"
   ]
  },
  {
   "cell_type": "code",
   "execution_count": null,
   "metadata": {},
   "outputs": [],
   "source": [
    "# 여기에 flask 모델 추가하는곳으로 예상\n",
    "# vue에서 flask, axios로 python으로 이미지를 받아온다."
   ]
  },
  {
   "cell_type": "code",
   "execution_count": null,
   "metadata": {},
   "outputs": [],
   "source": [
    "# import socket\n",
    "\n",
    "# (host, port) = ('localhost', 37373)\n",
    "\n",
    "# s = socket.socket(socket.AF_INET, socket.SOCK_STREAM)\n",
    "# s.bind((host, port))\n",
    "# s.listen(1)\n",
    "\n",
    "# conn, addr = s.accept()\n",
    "\n",
    "# with open('output', 'wb') as f:\n",
    "# \twhile True:\n",
    "# \t\tl = conn.recv(1024)\n",
    "# \t\tif not 1:\n",
    "# \t\t\tbreak\n",
    "# \t\tf.write(l)\n",
    "\n",
    "# s.close()\n"
   ]
  },
  {
   "cell_type": "code",
   "execution_count": null,
   "metadata": {},
   "outputs": [],
   "source": [
    "# 여기에 flask 모델 추가하는곳으로 예상\n",
    "# vue에서 flask, axios로 python으로 이미지를 받아온다.\n",
    "from flask import send_file\n",
    "from flask import Flask\n",
    "from flask_cors import CORS, cross_origin\n",
    "\n",
    "# 분석 결과가 나왔으면 나온 결과를 vue로 연결해서 보여준다.\n",
    "app = Flask(__name__)\n",
    "\n",
    "CORS(app, resources={r'*': {'origins': 'http://localhost:8080'}})\n",
    "@app.route('/img', methods = ['POST'])\n",
    "def analysis_img():\n",
    "    print('b')\n",
    "    nickname = request.get_json()\n",
    "    print('a')\n",
    "    data = {\"success\": False}\n",
    "    if request.method == 'POST':\n",
    "        print('POST')\n",
    "        print(nickname)\n",
    "        print(nickname['nick'])\n",
    "        name = nickname['nick']\n",
    "        gra=rank(name)\n",
    "        print(gra)\n",
    "        return jsonify(gra)\n",
    "    \n",
    "if __name__ == \"__main__\":\n",
    "    app.run()"
   ]
  },
  {
   "cell_type": "code",
   "execution_count": null,
   "metadata": {},
   "outputs": [],
   "source": [
    "# # 일단 테스트 용도로 다양한 모델을 검증해보자.\n",
    "# # 말그대로의 test 모델들을 넣어보자.\n",
    "# # 현재 이미지 15까지\n",
    "# test_A_img = image.load_img(\"static/test_image_17.jpg\", target_size = (224, 224))\n",
    "# test_A_img"
   ]
  },
  {
   "cell_type": "code",
   "execution_count": null,
   "metadata": {},
   "outputs": [],
   "source": [
    "def rank(file):\n",
    "    test_A_img = image.load_img(file, target_size = (224, 224))\n",
    "    \n",
    "    trans_img = image.img_to_array(test_A_img)\n",
    "    trans_img = np.expand_dims(trans_img, axis = 0)\n",
    "    trans_img = preprocess_input(trans_img)\n",
    "    \n",
    "    pred = classifier.predict(trans_img)\n",
    "    label = decode_predictions(pred)\n",
    "    \n",
    "    print('top 5!')\n",
    "    for i in range(5):\n",
    "        print('%16s (%.2f%%)' % (label[0][i][1], label[0][i][2] * 100))\n",
    "\n",
    "rank()"
   ]
  },
  {
   "cell_type": "code",
   "execution_count": null,
   "metadata": {},
   "outputs": [],
   "source": [
    "# trans_img = image.img_to_array(test_A_img)\n",
    "# trans_img = np.expand_dims(trans_img, axis = 0)\n",
    "# trans_img = preprocess_input(trans_img)\n",
    "\n",
    "\n",
    "# print(trans_img.shape)"
   ]
  },
  {
   "cell_type": "code",
   "execution_count": null,
   "metadata": {},
   "outputs": [],
   "source": [
    "# pred = classifier.predict(trans_img)\n",
    "\n",
    "# # pred = resModel.predict(trans_img)"
   ]
  },
  {
   "cell_type": "code",
   "execution_count": null,
   "metadata": {},
   "outputs": [],
   "source": [
    "# label = decode_predictions(pred)\n",
    "\n",
    "# def rank():\n",
    "#     print('top 5!')\n",
    "#     for i in range(5):\n",
    "#         print('%16s (%.2f%%)' % (label[0][i][1], label[0][i][2] * 100))\n",
    "#     rank()\n",
    "        \n"
   ]
  },
  {
   "cell_type": "code",
   "execution_count": null,
   "metadata": {},
   "outputs": [],
   "source": []
  },
  {
   "cell_type": "code",
   "execution_count": null,
   "metadata": {},
   "outputs": [],
   "source": []
  }
 ],
 "metadata": {
  "kernelspec": {
   "display_name": "Python 3",
   "language": "python",
   "name": "python3"
  },
  "language_info": {
   "codemirror_mode": {
    "name": "ipython",
    "version": 3
   },
   "file_extension": ".py",
   "mimetype": "text/x-python",
   "name": "python",
   "nbconvert_exporter": "python",
   "pygments_lexer": "ipython3",
   "version": "3.8.5"
  }
 },
 "nbformat": 4,
 "nbformat_minor": 4
}
