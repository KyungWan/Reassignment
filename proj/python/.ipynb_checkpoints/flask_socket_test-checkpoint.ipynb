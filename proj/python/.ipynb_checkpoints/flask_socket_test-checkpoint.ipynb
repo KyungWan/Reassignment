{
 "cells": [
  {
   "cell_type": "code",
   "execution_count": null,
   "metadata": {},
   "outputs": [],
   "source": [
    "# 기존 소유 코드"
   ]
  },
  {
   "cell_type": "code",
   "execution_count": 2,
   "metadata": {},
   "outputs": [
    {
     "name": "stdout",
     "output_type": "stream",
     "text": [
      " * Serving Flask app \"__main__\" (lazy loading)\n",
      " * Environment: production\n",
      "   WARNING: This is a development server. Do not use it in a production deployment.\n",
      "   Use a production WSGI server instead.\n",
      " * Debug mode: on\n"
     ]
    },
    {
     "name": "stderr",
     "output_type": "stream",
     "text": [
      " * Restarting with windowsapi reloader\n"
     ]
    },
    {
     "ename": "SystemExit",
     "evalue": "1",
     "output_type": "error",
     "traceback": [
      "An exception has occurred, use %tb to see the full traceback.\n",
      "\u001b[1;31mSystemExit\u001b[0m\u001b[1;31m:\u001b[0m 1\n"
     ]
    },
    {
     "name": "stderr",
     "output_type": "stream",
     "text": [
      "C:\\Users\\wanni\\anaconda3\\lib\\site-packages\\IPython\\core\\interactiveshell.py:3425: UserWarning: To exit: use 'exit', 'quit', or Ctrl-D.\n",
      "  warn(\"To exit: use 'exit', 'quit', or Ctrl-D.\", stacklevel=1)\n"
     ]
    }
   ],
   "source": [
    "from flask import send_file\n",
    "from flask import Flask\n",
    "\n",
    "app = Flask(__name__)\n",
    "\n",
    "# RFC - https://tools.ietf.org/html/rfc3003\n",
    "@app.route('/img_download')\n",
    "def mp3_download():\n",
    "    file_name = \"./TwoStepDR_320kbps.jpg\"\n",
    "    return send_file(file_name,\n",
    "                     mimetype='image/jpg',\n",
    "                     attachment_filename='img_test.jpg',# 다운받아지는 파일 이름. \n",
    "                     as_attachment=True)\n",
    "\n",
    "@app.route(\"/file_download\")\n",
    "def hello():\n",
    "    return '''\n",
    "    <a href=\"/img_download\">Click me.</a>\n",
    "    \n",
    "    <form method=\"get\" action=\"img_download\">\n",
    "        <button type=\"submit\">Download!</button>\n",
    "    </form>\n",
    "    '''\n",
    "\n",
    "if __name__ == '__main__':\n",
    "\tapp.run(debug=)\n"
   ]
  },
  {
   "cell_type": "code",
   "execution_count": null,
   "metadata": {},
   "outputs": [],
   "source": [
    "아래 오류가 발생하는 이유 = 스크립트가 ~호출에서 이미지를 로드 할 수 없을 때...\n",
    "\n",
    "* Serving Flask app \"__main__\" (lazy loading)\n",
    " * Environment: production\n",
    "   WARNING: This is a development server. Do not use it in a production deployment.\n",
    "   Use a production WSGI server instead.\n",
    " * Debug mode: on\n",
    " * Restarting with windowsapi reloader\n",
    "An exception has occurred, use %tb to see the full traceback.\n",
    "\n",
    "SystemExit: 1"
   ]
  },
  {
   "cell_type": "code",
   "execution_count": null,
   "metadata": {},
   "outputs": [],
   "source": [
    "# 구글링 코드"
   ]
  },
  {
   "cell_type": "code",
   "execution_count": 1,
   "metadata": {},
   "outputs": [
    {
     "ename": "ImportError",
     "evalue": "cannot import name 'secure_filename' from 'werkzeug' (C:\\Users\\wanni\\anaconda3\\lib\\site-packages\\werkzeug\\__init__.py)",
     "output_type": "error",
     "traceback": [
      "\u001b[1;31m---------------------------------------------------------------------------\u001b[0m",
      "\u001b[1;31mImportError\u001b[0m                               Traceback (most recent call last)",
      "\u001b[1;32m<ipython-input-1-f5ab81a05fbc>\u001b[0m in \u001b[0;36m<module>\u001b[1;34m\u001b[0m\n\u001b[0;32m      4\u001b[0m \u001b[1;32mimport\u001b[0m \u001b[0mpandas\u001b[0m \u001b[1;32mas\u001b[0m \u001b[0mpd\u001b[0m\u001b[1;33m\u001b[0m\u001b[1;33m\u001b[0m\u001b[0m\n\u001b[0;32m      5\u001b[0m \u001b[1;32mfrom\u001b[0m \u001b[0mcopy\u001b[0m \u001b[1;32mimport\u001b[0m \u001b[0mdeepcopy\u001b[0m\u001b[1;33m\u001b[0m\u001b[1;33m\u001b[0m\u001b[0m\n\u001b[1;32m----> 6\u001b[1;33m \u001b[1;32mfrom\u001b[0m \u001b[0mwerkzeug\u001b[0m \u001b[1;32mimport\u001b[0m \u001b[0msecure_filename\u001b[0m\u001b[1;33m\u001b[0m\u001b[1;33m\u001b[0m\u001b[0m\n\u001b[0m\u001b[0;32m      7\u001b[0m \u001b[1;32mfrom\u001b[0m \u001b[0mPIL\u001b[0m \u001b[1;32mimport\u001b[0m \u001b[0mImage\u001b[0m\u001b[1;33m\u001b[0m\u001b[1;33m\u001b[0m\u001b[0m\n\u001b[0;32m      8\u001b[0m \u001b[1;32mimport\u001b[0m \u001b[0mcatdog\u001b[0m\u001b[1;33m\u001b[0m\u001b[1;33m\u001b[0m\u001b[0m\n",
      "\u001b[1;31mImportError\u001b[0m: cannot import name 'secure_filename' from 'werkzeug' (C:\\Users\\wanni\\anaconda3\\lib\\site-packages\\werkzeug\\__init__.py)"
     ]
    }
   ],
   "source": [
    "import flask\n",
    "from flask import request, render_template\n",
    "import numpy as np\n",
    "import pandas as pd\n",
    "from copy import deepcopy\n",
    "from werkzeug import secure_filename\n",
    "from PIL import Image\n",
    "import catdog\n",
    "\n",
    "# Initialize the app\n",
    "app = flask.Flask(__name__)\n",
    "\n",
    "@app.route(\"/\")\n",
    "def viz_page():\n",
    "       with open(\"frontend.html\", 'r') as viz_file:\n",
    "           return viz_file.read()\n",
    "\n",
    "@app.route(\"/uploader\", methods=[\"GET\",\"POST\"])\n",
    "def get_image():\n",
    "       if request.method == 'POST':\n",
    "           f = request.files['file']\n",
    "           sfname = 'static/images/'+str(secure_filename(f.filename))\n",
    "           f.save(sfname)\n",
    "\n",
    "           clf = catdog.classifier()\n",
    "           #clf.save_image(f.filename)\n",
    "\n",
    "           return render_template('result.html', pred = clf.predict(sfname), imgpath = sfname)\n",
    "\n",
    "\n",
    "#--------- RUN WEB APP SERVER ------------#\n",
    "\n",
    "# Start the app server on port 80\n",
    "# (The default website port)\n",
    "app.run(host='0.0.0.0', port=5000, debug=True)"
   ]
  },
  {
   "cell_type": "code",
   "execution_count": null,
   "metadata": {},
   "outputs": [],
   "source": [
    "# HTML"
   ]
  },
  {
   "cell_type": "code",
   "execution_count": null,
   "metadata": {},
   "outputs": [],
   "source": [
    "<!DOCTYPE html>\n",
    "     <html lang=\"en\">\n",
    "       <head>\n",
    "         <meta charset=\"utf-8\">\n",
    "         <title>Dog vs Cat</title>\n",
    "         <script src=\"http://ajax.googleapis.com/ajax/libs/jquery/1.11.1/jquery.min.js\"></script>\n",
    "         <script src=\"http://d3js.org/d3.v3.min.js\"></script>\n",
    "       </head>\n",
    "       <body>\n",
    "         <h3> Prediction: {{ pred }} </h3>\n",
    "         <br><br>\n",
    "         <img src=\"/static/images/your_image_here.jpg\">\n",
    "         <script>\n",
    "\n",
    "         </script>\n",
    "\n",
    "       </body>\n",
    "     </html>"
   ]
  }
 ],
 "metadata": {
  "kernelspec": {
   "display_name": "Python 3",
   "language": "python",
   "name": "python3"
  },
  "language_info": {
   "codemirror_mode": {
    "name": "ipython",
    "version": 3
   },
   "file_extension": ".py",
   "mimetype": "text/x-python",
   "name": "python",
   "nbconvert_exporter": "python",
   "pygments_lexer": "ipython3",
   "version": "3.8.5"
  }
 },
 "nbformat": 4,
 "nbformat_minor": 4
}
